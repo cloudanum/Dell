{
 "cells": [
  {
   "cell_type": "markdown",
   "metadata": {},
   "source": [
    "<h1> Machine Learning using tf.estimator </h1>\n",
    "\n",
    "In this notebook, we will create a machine learning model using tf.estimator and evaluate its performance.  The dataset is rather small (7700 samples), so we can do it all in-memory.  We will also simply pass the raw data in as-is. "
   ]
  },
  {
   "cell_type": "code",
   "execution_count": 10,
   "metadata": {},
   "outputs": [
    {
     "name": "stderr",
     "output_type": "stream",
     "text": [
      "/Users/iahmad/anaconda3/lib/python3.6/importlib/_bootstrap.py:219: RuntimeWarning: compiletime version 3.5 of module 'tensorflow.python.framework.fast_tensor_util' does not match runtime version 3.6\n",
      "  return f(*args, **kwds)\n"
     ]
    },
    {
     "name": "stdout",
     "output_type": "stream",
     "text": [
      "1.4.0\n"
     ]
    }
   ],
   "source": [
    "\n",
    "import tensorflow as tf\n",
    "import pandas as pd\n",
    "import numpy as np\n",
    "import shutil\n",
    "\n",
    "print (tf.__version__)"
   ]
  },
  {
   "cell_type": "markdown",
   "metadata": {},
   "source": [
    "Read data created in the previous chapter."
   ]
  },
  {
   "cell_type": "code",
   "execution_count": 15,
   "metadata": {},
   "outputs": [],
   "source": [
    "# In CSV, label is the first column, after the features, followed by the key\n",
    "CSV_COLUMNS = ['fare_amount', 'pickuplon','pickuplat','dropofflon','dropofflat','passengers', 'key']\n",
    "FEATURES = CSV_COLUMNS[1:len(CSV_COLUMNS) - 1]\n",
    "LABEL = CSV_COLUMNS[0]\n"
   ]
  },
  {
   "cell_type": "code",
   "execution_count": 16,
   "metadata": {},
   "outputs": [],
   "source": [
    "df_train = pd.read_csv('taxi-train.csv', header = None, names = CSV_COLUMNS)"
   ]
  },
  {
   "cell_type": "code",
   "execution_count": 17,
   "metadata": {
    "collapsed": true
   },
   "outputs": [],
   "source": [
    "df_train = pd.read_csv('./taxi-train.csv', header = None, names = CSV_COLUMNS)"
   ]
  },
  {
   "cell_type": "code",
   "execution_count": 18,
   "metadata": {},
   "outputs": [],
   "source": [
    "df_valid = pd.read_csv('./taxi-valid.csv', header = None, names = CSV_COLUMNS)"
   ]
  },
  {
   "cell_type": "markdown",
   "metadata": {},
   "source": [
    "<h2> Input function to read from Pandas Dataframe into tf.constant </h2>"
   ]
  },
  {
   "cell_type": "code",
   "execution_count": 19,
   "metadata": {},
   "outputs": [],
   "source": [
    "def make_input_fn(df, num_epochs):\n",
    "  return tf.estimator.inputs.pandas_input_fn(\n",
    "    x = df,\n",
    "    y = df[LABEL],\n",
    "    batch_size = 128,\n",
    "    num_epochs = num_epochs,\n",
    "    shuffle = True,\n",
    "    queue_capacity = 1000,\n",
    "    num_threads = 1\n",
    "  )"
   ]
  },
  {
   "cell_type": "markdown",
   "metadata": {},
   "source": [
    "### Create feature columns for estimator"
   ]
  },
  {
   "cell_type": "code",
   "execution_count": 20,
   "metadata": {
    "collapsed": true
   },
   "outputs": [],
   "source": [
    "def make_feature_cols():\n",
    "  input_columns = [tf.feature_column.numeric_column(k) for k in FEATURES]\n",
    "  return input_columns"
   ]
  },
  {
   "cell_type": "markdown",
   "metadata": {},
   "source": [
    "<h3> Linear Regression with tf.Estimator framework </h3>"
   ]
  },
  {
   "cell_type": "code",
   "execution_count": 21,
   "metadata": {},
   "outputs": [
    {
     "name": "stdout",
     "output_type": "stream",
     "text": [
      "INFO:tensorflow:Using default config.\n",
      "INFO:tensorflow:Using config: {'_model_dir': 'taxi_trained', '_tf_random_seed': None, '_save_summary_steps': 100, '_save_checkpoints_steps': None, '_save_checkpoints_secs': 600, '_session_config': None, '_keep_checkpoint_max': 5, '_keep_checkpoint_every_n_hours': 10000, '_log_step_count_steps': 100, '_service': None, '_cluster_spec': <tensorflow.python.training.server_lib.ClusterSpec object at 0x1815300748>, '_task_type': 'worker', '_task_id': 0, '_master': '', '_is_chief': True, '_num_ps_replicas': 0, '_num_worker_replicas': 1}\n",
      "INFO:tensorflow:Create CheckpointSaverHook.\n",
      "INFO:tensorflow:Saving checkpoints for 1 into taxi_trained/model.ckpt.\n",
      "INFO:tensorflow:loss = 18946.5, step = 1\n",
      "INFO:tensorflow:global_step/sec: 416.394\n",
      "INFO:tensorflow:loss = 18439.9, step = 101 (0.242 sec)\n",
      "INFO:tensorflow:global_step/sec: 585.298\n",
      "INFO:tensorflow:loss = 11846.9, step = 201 (0.171 sec)\n",
      "INFO:tensorflow:global_step/sec: 588.426\n",
      "INFO:tensorflow:loss = 14662.6, step = 301 (0.171 sec)\n",
      "INFO:tensorflow:global_step/sec: 523.521\n",
      "INFO:tensorflow:loss = 5941.79, step = 401 (0.191 sec)\n",
      "INFO:tensorflow:global_step/sec: 538.5\n",
      "INFO:tensorflow:loss = 15754.2, step = 501 (0.186 sec)\n",
      "INFO:tensorflow:global_step/sec: 581.209\n",
      "INFO:tensorflow:loss = 6327.02, step = 601 (0.172 sec)\n",
      "INFO:tensorflow:Saving checkpoints for 608 into taxi_trained/model.ckpt.\n",
      "INFO:tensorflow:Loss for final step: 316.068.\n"
     ]
    },
    {
     "data": {
      "text/plain": [
       "<tensorflow.python.estimator.canned.linear.LinearRegressor at 0x104fe4ba8>"
      ]
     },
     "execution_count": 21,
     "metadata": {},
     "output_type": "execute_result"
    }
   ],
   "source": [
    "tf.logging.set_verbosity(tf.logging.INFO)\n",
    "\n",
    "OUTDIR = 'taxi_trained'\n",
    "shutil.rmtree(OUTDIR, ignore_errors = True) # start fresh each time\n",
    "\n",
    "model = tf.estimator.LinearRegressor(\n",
    "      feature_columns = make_feature_cols(), model_dir = OUTDIR)\n",
    "\n",
    "model.train(input_fn = make_input_fn(df_train, num_epochs = 10))"
   ]
  },
  {
   "cell_type": "markdown",
   "metadata": {},
   "source": [
    "Evaluate on the validation data (we should defer using the test data to after we have selected a final model)."
   ]
  },
  {
   "cell_type": "code",
   "execution_count": 23,
   "metadata": {},
   "outputs": [
    {
     "name": "stdout",
     "output_type": "stream",
     "text": [
      "INFO:tensorflow:Starting evaluation at 2018-05-23-06:31:52\n",
      "INFO:tensorflow:Restoring parameters from taxi_trained/model.ckpt-608\n",
      "INFO:tensorflow:Finished evaluation at 2018-05-23-06:31:53\n",
      "INFO:tensorflow:Saving dict for global step 608: average_loss = 109.038, global_step = 608, loss = 12967.7\n",
      "RMSE on validation dataset = 10.44210433959961\n"
     ]
    }
   ],
   "source": [
    "def print_rmse(model, name, df):\n",
    "  metrics = model.evaluate(input_fn = make_input_fn(df, 1))\n",
    "  print ('RMSE on {} dataset = {}'.format(name, np.sqrt(metrics['average_loss'])))\n",
    "print_rmse(model, 'validation', df_valid)"
   ]
  },
  {
   "cell_type": "markdown",
   "metadata": {},
   "source": [
    "This is nowhere near our benchmark (RMSE of $6 or so on this data), but it serves to demonstrate what TensorFlow code looks like.  Let's use this model for prediction."
   ]
  },
  {
   "cell_type": "code",
   "execution_count": 25,
   "metadata": {},
   "outputs": [
    {
     "name": "stdout",
     "output_type": "stream",
     "text": [
      "INFO:tensorflow:Using default config.\n",
      "INFO:tensorflow:Using config: {'_model_dir': 'taxi_trained', '_tf_random_seed': None, '_save_summary_steps': 100, '_save_checkpoints_steps': None, '_save_checkpoints_secs': 600, '_session_config': None, '_keep_checkpoint_max': 5, '_keep_checkpoint_every_n_hours': 10000, '_log_step_count_steps': 100, '_service': None, '_cluster_spec': <tensorflow.python.training.server_lib.ClusterSpec object at 0x1816307908>, '_task_type': 'worker', '_task_id': 0, '_master': '', '_is_chief': True, '_num_ps_replicas': 0, '_num_worker_replicas': 1}\n",
      "INFO:tensorflow:Restoring parameters from taxi_trained/model.ckpt-608\n",
      "[12.072536, 12.076008, 12.343427, 12.342476, 12.343532]\n"
     ]
    }
   ],
   "source": [
    "import itertools\n",
    "# Read saved model and use it for prediction\n",
    "model = tf.estimator.LinearRegressor(\n",
    "      feature_columns = make_feature_cols(), model_dir = OUTDIR)\n",
    "preds_iter = model.predict(input_fn = make_input_fn(df_valid, 1))\n",
    "print ([pred['predictions'][0] for pred in list(itertools.islice(preds_iter, 5))])"
   ]
  },
  {
   "cell_type": "markdown",
   "metadata": {},
   "source": [
    "This explains why the RMSE was so high -- the model essentially predicts the same amount for every trip.  Would a more complex model help? Let's try using a deep neural network.  The code to do this is quite straightforward as well."
   ]
  },
  {
   "cell_type": "markdown",
   "metadata": {},
   "source": [
    "<h3> Deep Neural Network regression </h3>"
   ]
  },
  {
   "cell_type": "code",
   "execution_count": 28,
   "metadata": {},
   "outputs": [
    {
     "name": "stdout",
     "output_type": "stream",
     "text": [
      "INFO:tensorflow:Using default config.\n",
      "INFO:tensorflow:Using config: {'_model_dir': 'taxi_trained', '_tf_random_seed': None, '_save_summary_steps': 100, '_save_checkpoints_steps': None, '_save_checkpoints_secs': 600, '_session_config': None, '_keep_checkpoint_max': 5, '_keep_checkpoint_every_n_hours': 10000, '_log_step_count_steps': 100, '_service': None, '_cluster_spec': <tensorflow.python.training.server_lib.ClusterSpec object at 0x103d50a90>, '_task_type': 'worker', '_task_id': 0, '_master': '', '_is_chief': True, '_num_ps_replicas': 0, '_num_worker_replicas': 1}\n",
      "INFO:tensorflow:Create CheckpointSaverHook.\n",
      "INFO:tensorflow:Saving checkpoints for 1 into taxi_trained/model.ckpt.\n",
      "INFO:tensorflow:loss = 9850.42, step = 1\n",
      "INFO:tensorflow:global_step/sec: 396.135\n",
      "INFO:tensorflow:loss = 9654.58, step = 101 (0.254 sec)\n",
      "INFO:tensorflow:global_step/sec: 466.144\n",
      "INFO:tensorflow:loss = 10470.1, step = 201 (0.214 sec)\n",
      "INFO:tensorflow:global_step/sec: 451.021\n",
      "INFO:tensorflow:loss = 5621.72, step = 301 (0.222 sec)\n",
      "INFO:tensorflow:global_step/sec: 457.072\n",
      "INFO:tensorflow:loss = 14091.5, step = 401 (0.219 sec)\n",
      "INFO:tensorflow:global_step/sec: 457.44\n",
      "INFO:tensorflow:loss = 8803.3, step = 501 (0.219 sec)\n",
      "INFO:tensorflow:global_step/sec: 459.118\n",
      "INFO:tensorflow:loss = 9473.06, step = 601 (0.218 sec)\n",
      "INFO:tensorflow:global_step/sec: 487.966\n",
      "INFO:tensorflow:loss = 6667.86, step = 701 (0.206 sec)\n",
      "INFO:tensorflow:global_step/sec: 453.883\n",
      "INFO:tensorflow:loss = 11420.2, step = 801 (0.220 sec)\n",
      "INFO:tensorflow:global_step/sec: 493.138\n",
      "INFO:tensorflow:loss = 12775.5, step = 901 (0.204 sec)\n",
      "INFO:tensorflow:global_step/sec: 486.649\n",
      "INFO:tensorflow:loss = 15308.5, step = 1001 (0.206 sec)\n",
      "INFO:tensorflow:global_step/sec: 403.838\n",
      "INFO:tensorflow:loss = 7875.87, step = 1101 (0.247 sec)\n",
      "INFO:tensorflow:global_step/sec: 381.135\n",
      "INFO:tensorflow:loss = 9051.02, step = 1201 (0.262 sec)\n",
      "INFO:tensorflow:global_step/sec: 374.124\n",
      "INFO:tensorflow:loss = 11314.6, step = 1301 (0.267 sec)\n",
      "INFO:tensorflow:global_step/sec: 386.577\n",
      "INFO:tensorflow:loss = 15527.0, step = 1401 (0.259 sec)\n",
      "INFO:tensorflow:global_step/sec: 466.855\n",
      "INFO:tensorflow:loss = 8574.21, step = 1501 (0.215 sec)\n",
      "INFO:tensorflow:global_step/sec: 390.671\n",
      "INFO:tensorflow:loss = 15205.4, step = 1601 (0.255 sec)\n",
      "INFO:tensorflow:global_step/sec: 380.307\n",
      "INFO:tensorflow:loss = 9623.09, step = 1701 (0.263 sec)\n",
      "INFO:tensorflow:global_step/sec: 383.727\n",
      "INFO:tensorflow:loss = 7324.87, step = 1801 (0.260 sec)\n",
      "INFO:tensorflow:global_step/sec: 398.24\n",
      "INFO:tensorflow:loss = 9156.36, step = 1901 (0.252 sec)\n",
      "INFO:tensorflow:global_step/sec: 415.619\n",
      "INFO:tensorflow:loss = 11549.8, step = 2001 (0.240 sec)\n",
      "INFO:tensorflow:global_step/sec: 417.884\n",
      "INFO:tensorflow:loss = 14256.6, step = 2101 (0.240 sec)\n",
      "INFO:tensorflow:global_step/sec: 508.696\n",
      "INFO:tensorflow:loss = 10260.5, step = 2201 (0.197 sec)\n",
      "INFO:tensorflow:global_step/sec: 472.291\n",
      "INFO:tensorflow:loss = 12072.0, step = 2301 (0.212 sec)\n",
      "INFO:tensorflow:global_step/sec: 461.778\n",
      "INFO:tensorflow:loss = 9584.85, step = 2401 (0.218 sec)\n",
      "INFO:tensorflow:global_step/sec: 474.064\n",
      "INFO:tensorflow:loss = 10979.6, step = 2501 (0.211 sec)\n",
      "INFO:tensorflow:global_step/sec: 407.787\n",
      "INFO:tensorflow:loss = 7219.32, step = 2601 (0.243 sec)\n",
      "INFO:tensorflow:global_step/sec: 406.324\n",
      "INFO:tensorflow:loss = 9412.92, step = 2701 (0.247 sec)\n",
      "INFO:tensorflow:global_step/sec: 542.32\n",
      "INFO:tensorflow:loss = 8128.49, step = 2801 (0.185 sec)\n",
      "INFO:tensorflow:global_step/sec: 425.767\n",
      "INFO:tensorflow:loss = 8687.58, step = 2901 (0.235 sec)\n",
      "INFO:tensorflow:global_step/sec: 518.481\n",
      "INFO:tensorflow:loss = 10855.7, step = 3001 (0.195 sec)\n",
      "INFO:tensorflow:global_step/sec: 493.457\n",
      "INFO:tensorflow:loss = 5425.34, step = 3101 (0.203 sec)\n",
      "INFO:tensorflow:global_step/sec: 439.87\n",
      "INFO:tensorflow:loss = 15263.3, step = 3201 (0.224 sec)\n",
      "INFO:tensorflow:global_step/sec: 447.728\n",
      "INFO:tensorflow:loss = 13864.0, step = 3301 (0.223 sec)\n",
      "INFO:tensorflow:global_step/sec: 428.791\n",
      "INFO:tensorflow:loss = 5943.57, step = 3401 (0.234 sec)\n",
      "INFO:tensorflow:global_step/sec: 432.111\n",
      "INFO:tensorflow:loss = 7694.65, step = 3501 (0.231 sec)\n",
      "INFO:tensorflow:global_step/sec: 437.914\n",
      "INFO:tensorflow:loss = 10911.3, step = 3601 (0.228 sec)\n",
      "INFO:tensorflow:global_step/sec: 512.052\n",
      "INFO:tensorflow:loss = 12084.5, step = 3701 (0.197 sec)\n",
      "INFO:tensorflow:global_step/sec: 485.804\n",
      "INFO:tensorflow:loss = 13336.9, step = 3801 (0.205 sec)\n",
      "INFO:tensorflow:global_step/sec: 384.014\n",
      "INFO:tensorflow:loss = 10122.8, step = 3901 (0.261 sec)\n",
      "INFO:tensorflow:global_step/sec: 397.169\n",
      "INFO:tensorflow:loss = 6262.13, step = 4001 (0.251 sec)\n",
      "INFO:tensorflow:global_step/sec: 399.99\n",
      "INFO:tensorflow:loss = 7971.36, step = 4101 (0.249 sec)\n",
      "INFO:tensorflow:global_step/sec: 414.818\n",
      "INFO:tensorflow:loss = 15791.7, step = 4201 (0.241 sec)\n",
      "INFO:tensorflow:global_step/sec: 474.728\n",
      "INFO:tensorflow:loss = 11915.9, step = 4301 (0.212 sec)\n",
      "INFO:tensorflow:global_step/sec: 467.952\n",
      "INFO:tensorflow:loss = 13645.7, step = 4401 (0.214 sec)\n",
      "INFO:tensorflow:global_step/sec: 455.668\n",
      "INFO:tensorflow:loss = 8241.26, step = 4501 (0.220 sec)\n",
      "INFO:tensorflow:global_step/sec: 492.4\n",
      "INFO:tensorflow:loss = 9930.64, step = 4601 (0.203 sec)\n",
      "INFO:tensorflow:global_step/sec: 440.764\n",
      "INFO:tensorflow:loss = 7467.07, step = 4701 (0.226 sec)\n",
      "INFO:tensorflow:global_step/sec: 492.662\n",
      "INFO:tensorflow:loss = 10637.6, step = 4801 (0.205 sec)\n",
      "INFO:tensorflow:global_step/sec: 413.269\n",
      "INFO:tensorflow:loss = 7801.77, step = 4901 (0.241 sec)\n",
      "INFO:tensorflow:global_step/sec: 388.618\n",
      "INFO:tensorflow:loss = 10075.3, step = 5001 (0.256 sec)\n",
      "INFO:tensorflow:global_step/sec: 394.79\n",
      "INFO:tensorflow:loss = 16327.7, step = 5101 (0.253 sec)\n",
      "INFO:tensorflow:global_step/sec: 415.494\n",
      "INFO:tensorflow:loss = 12171.4, step = 5201 (0.242 sec)\n",
      "INFO:tensorflow:global_step/sec: 523.01\n",
      "INFO:tensorflow:loss = 14881.5, step = 5301 (0.190 sec)\n",
      "INFO:tensorflow:global_step/sec: 433.706\n",
      "INFO:tensorflow:loss = 7316.24, step = 5401 (0.231 sec)\n",
      "INFO:tensorflow:global_step/sec: 425.053\n",
      "INFO:tensorflow:loss = 7901.61, step = 5501 (0.235 sec)\n",
      "INFO:tensorflow:global_step/sec: 477.731\n",
      "INFO:tensorflow:loss = 8265.0, step = 5601 (0.210 sec)\n",
      "INFO:tensorflow:global_step/sec: 445.494\n",
      "INFO:tensorflow:loss = 14887.2, step = 5701 (0.224 sec)\n",
      "INFO:tensorflow:global_step/sec: 563.669\n",
      "INFO:tensorflow:loss = 13902.2, step = 5801 (0.179 sec)\n",
      "INFO:tensorflow:global_step/sec: 443.859\n",
      "INFO:tensorflow:loss = 5370.32, step = 5901 (0.224 sec)\n",
      "INFO:tensorflow:global_step/sec: 469.21\n",
      "INFO:tensorflow:loss = 8621.02, step = 6001 (0.214 sec)\n",
      "INFO:tensorflow:Saving checkpoints for 6071 into taxi_trained/model.ckpt.\n",
      "INFO:tensorflow:Loss for final step: 7312.03.\n"
     ]
    },
    {
     "ename": "TypeError",
     "evalue": "print_rmse() missing 2 required positional arguments: 'name' and 'df'",
     "output_type": "error",
     "traceback": [
      "\u001b[0;31m---------------------------------------------------------------------------\u001b[0m",
      "\u001b[0;31mTypeError\u001b[0m                                 Traceback (most recent call last)",
      "\u001b[0;32m<ipython-input-28-719cccf24068>\u001b[0m in \u001b[0;36m<module>\u001b[0;34m()\u001b[0m\n\u001b[1;32m      4\u001b[0m       feature_columns = make_feature_cols(), model_dir = OUTDIR)\n\u001b[1;32m      5\u001b[0m \u001b[0mmodel\u001b[0m\u001b[0;34m.\u001b[0m\u001b[0mtrain\u001b[0m\u001b[0;34m(\u001b[0m\u001b[0minput_fn\u001b[0m \u001b[0;34m=\u001b[0m \u001b[0mmake_input_fn\u001b[0m\u001b[0;34m(\u001b[0m\u001b[0mdf_train\u001b[0m\u001b[0;34m,\u001b[0m \u001b[0mnum_epochs\u001b[0m \u001b[0;34m=\u001b[0m \u001b[0;36m100\u001b[0m\u001b[0;34m)\u001b[0m\u001b[0;34m)\u001b[0m\u001b[0;34m;\u001b[0m\u001b[0;34m\u001b[0m\u001b[0m\n\u001b[0;32m----> 6\u001b[0;31m \u001b[0mprint_rmse\u001b[0m\u001b[0;34m(\u001b[0m\u001b[0;34m(\u001b[0m\u001b[0mmodel\u001b[0m\u001b[0;34m,\u001b[0m \u001b[0;34m'validation'\u001b[0m\u001b[0;34m,\u001b[0m \u001b[0mdf_valid\u001b[0m\u001b[0;34m)\u001b[0m\u001b[0;34m)\u001b[0m\u001b[0;34m\u001b[0m\u001b[0m\n\u001b[0m",
      "\u001b[0;31mTypeError\u001b[0m: print_rmse() missing 2 required positional arguments: 'name' and 'df'"
     ]
    }
   ],
   "source": [
    "tf.logging.set_verbosity(tf.logging.INFO)\n",
    "shutil.rmtree(OUTDIR, ignore_errors = True) # start fresh each time\n",
    "model = tf.estimator.DNNRegressor(hidden_units = [32, 8, 2],\n",
    "      feature_columns = make_feature_cols(), model_dir = OUTDIR)\n",
    "model.train(input_fn = make_input_fn(df_train, num_epochs = 100));\n",
    "print_rmse((model, 'validation', df_valid))"
   ]
  },
  {
   "cell_type": "markdown",
   "metadata": {},
   "source": [
    "We are not beating our benchmark with either model ... what's up?  Well, we may be using TensorFlow for Machine Learning, but we are not yet using it well.  That's what the rest of this course is about!\n",
    "\n",
    "But, for the record, let's say we had to choose between the two models. We'd choose the one with the lower validation error. Finally, we'd measure the RMSE on the test data with this chosen model."
   ]
  },
  {
   "cell_type": "markdown",
   "metadata": {},
   "source": [
    "<h2> Benchmark dataset </h2>\n",
    "\n",
    "Let's do this on the benchmark dataset."
   ]
  },
  {
   "cell_type": "code",
   "execution_count": null,
   "metadata": {},
   "outputs": [],
   "source": [
    "import datalab.bigquery as bq\n",
    "import numpy as np\n",
    "import pandas as pd\n",
    "\n",
    "\n",
    "def create_query(phase, EVERY_N):\n",
    "  \"\"\"\n",
    "  phase: 1 = train 2 = valid\n",
    "  \"\"\"\n",
    "  base_query = \"\"\"\n",
    "SELECT\n",
    "  (tolls_amount + fare_amount) AS fare_amount,\n",
    "  CONCAT(STRING(pickup_datetime), STRING(pickup_longitude), STRING(pickup_latitude), STRING(dropoff_latitude), STRING(dropoff_longitude)) AS key,\n",
    "  DAYOFWEEK(pickup_datetime)*1.0 AS dayofweek,\n",
    "  HOUR(pickup_datetime)*1.0 AS hourofday,\n",
    "  pickup_longitude AS pickuplon,\n",
    "  pickup_latitude AS pickuplat,\n",
    "  dropoff_longitude AS dropofflon,\n",
    "  dropoff_latitude AS dropofflat,\n",
    "  passenger_count*1.0 AS passengers,\n",
    "FROM\n",
    "  [nyc-tlc:yellow.trips]\n",
    "WHERE\n",
    "  trip_distance > 0\n",
    "  AND fare_amount >= 2.5\n",
    "  AND pickup_longitude > -78\n",
    "  AND pickup_longitude < -70\n",
    "  AND dropoff_longitude > -78\n",
    "  AND dropoff_longitude < -70\n",
    "  AND pickup_latitude > 37\n",
    "  AND pickup_latitude < 45\n",
    "  AND dropoff_latitude > 37\n",
    "  AND dropoff_latitude < 45\n",
    "  AND passenger_count > 0\n",
    "  \"\"\"\n",
    "\n",
    "  if EVERY_N == None:\n",
    "    if phase < 2:\n",
    "      # Training\n",
    "      query = \"{0} AND ABS(HASH(pickup_datetime)) % 4 < 2\".format(base_query)\n",
    "    else:\n",
    "      # Validation\n",
    "      query = \"{0} AND ABS(HASH(pickup_datetime)) % 4 == {1}\".format(base_query, phase)\n",
    "  else:\n",
    "    query = \"{0} AND ABS(HASH(pickup_datetime)) % {1} == {2}\".format(base_query, EVERY_N, phase)\n",
    "    \n",
    "  return query\n",
    "\n",
    "query = create_query(2, 100000)\n",
    "df = bq.Query(query).to_dataframe()"
   ]
  },
  {
   "cell_type": "code",
   "execution_count": 30,
   "metadata": {},
   "outputs": [
    {
     "ename": "NameError",
     "evalue": "name 'df' is not defined",
     "output_type": "error",
     "traceback": [
      "\u001b[0;31m---------------------------------------------------------------------------\u001b[0m",
      "\u001b[0;31mNameError\u001b[0m                                 Traceback (most recent call last)",
      "\u001b[0;32m<ipython-input-30-4322e67d1717>\u001b[0m in \u001b[0;36m<module>\u001b[0;34m()\u001b[0m\n\u001b[0;32m----> 1\u001b[0;31m \u001b[0mprint_rmse\u001b[0m\u001b[0;34m(\u001b[0m\u001b[0;34m(\u001b[0m\u001b[0mmodel\u001b[0m\u001b[0;34m,\u001b[0m \u001b[0;34m'benchmark'\u001b[0m\u001b[0;34m,\u001b[0m \u001b[0mdf\u001b[0m\u001b[0;34m)\u001b[0m\u001b[0;34m)\u001b[0m\u001b[0;34m\u001b[0m\u001b[0m\n\u001b[0m",
      "\u001b[0;31mNameError\u001b[0m: name 'df' is not defined"
     ]
    }
   ],
   "source": [
    "print_rmse((model, 'benchmark', df))"
   ]
  },
  {
   "cell_type": "markdown",
   "metadata": {},
   "source": [
    "RMSE on benchmark dataset is <b>9.41</b> (your results will vary because of random seeds).\n",
    "\n",
    "This is not only way more than our original benchmark of 6.00, but it doesn't even beat our distance-based rule's RMSE of 8.02.\n",
    "\n",
    "Fear not -- you have learned how to write a TensorFlow model, but not to do all the things that you will have to do to your ML model performant. We will do this in the next chapters. In this chapter though, we will get our TensorFlow model ready for these improvements.\n",
    "\n",
    "In a software sense, the rest of the labs in this chapter will be about refactoring the code so that we can improve it."
   ]
  },
  {
   "cell_type": "markdown",
   "metadata": {},
   "source": [
    "Copyright 2017 Google Inc. Licensed under the Apache License, Version 2.0 (the \"License\"); you may not use this file except in compliance with the License. You may obtain a copy of the License at http://www.apache.org/licenses/LICENSE-2.0 Unless required by applicable law or agreed to in writing, software distributed under the License is distributed on an \"AS IS\" BASIS, WITHOUT WARRANTIES OR CONDITIONS OF ANY KIND, either express or implied. See the License for the specific language governing permissions and limitations under the License"
   ]
  }
 ],
 "metadata": {
  "kernelspec": {
   "display_name": "Python 3",
   "language": "python",
   "name": "python3"
  },
  "language_info": {
   "codemirror_mode": {
    "name": "ipython",
    "version": 3
   },
   "file_extension": ".py",
   "mimetype": "text/x-python",
   "name": "python",
   "nbconvert_exporter": "python",
   "pygments_lexer": "ipython3",
   "version": "3.6.3"
  }
 },
 "nbformat": 4,
 "nbformat_minor": 1
}
